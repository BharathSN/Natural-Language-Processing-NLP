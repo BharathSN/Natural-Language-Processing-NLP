{
 "cells": [
  {
   "cell_type": "markdown",
   "metadata": {},
   "source": [
    "## Text Preprocessing using NLTK"
   ]
  },
  {
   "cell_type": "code",
   "execution_count": 45,
   "metadata": {},
   "outputs": [],
   "source": [
    "import nltk\n",
    "from nltk.corpus import stopwords\n",
    "from nltk.tokenize import word_tokenize, sent_tokenize\n",
    "stop_words = set(stopwords.words('english'))"
   ]
  },
  {
   "cell_type": "code",
   "execution_count": 6,
   "metadata": {},
   "outputs": [
    {
     "name": "stdout",
     "output_type": "stream",
     "text": [
      "Cricket is a bat and ball game played between two teams of eleven players.\n"
     ]
    }
   ],
   "source": [
    "# sample text\n",
    "text = 'Cricket is a bat and ball game played between two teams of eleven players.'\n",
    "print(text)"
   ]
  },
  {
   "cell_type": "code",
   "execution_count": 11,
   "metadata": {},
   "outputs": [
    {
     "name": "stdout",
     "output_type": "stream",
     "text": [
      "Cricket is a bat and ball game played between two teams of eleven players.\n",
      "['Cricket is a bat and ball game played between two teams of eleven players.']\n"
     ]
    }
   ],
   "source": [
    "tokenized = sent_tokenize(text)\n",
    "for i in tokenized:\n",
    "    print(i)\n"
   ]
  },
  {
   "cell_type": "code",
   "execution_count": 15,
   "metadata": {},
   "outputs": [
    {
     "name": "stdout",
     "output_type": "stream",
     "text": [
      "Terms after Stopword Elemination\n",
      "['Cricket', 'bat', 'ball', 'game', 'played', 'two', 'teams', 'eleven', 'players', '.']\n"
     ]
    }
   ],
   "source": [
    "#removing stop words from wordList\n",
    "wordsList = nltk.word_tokenize(i)\n",
    "wordsList = [w for w in wordsList if not w in stop_words]\n",
    "print('Terms after Stopword Elemination')\n",
    "print(wordsList)"
   ]
  },
  {
   "cell_type": "code",
   "execution_count": 30,
   "metadata": {},
   "outputs": [
    {
     "name": "stdout",
     "output_type": "stream",
     "text": [
      "After stemming\n",
      "['cricket', 'bat', 'ball', 'game', 'play', 'two', 'team', 'eleven', 'player', '.']\n"
     ]
    }
   ],
   "source": [
    "# Stemming Operation in NLP\n",
    "from nltk.stem import PorterStemmer\n",
    "ps = PorterStemmer()\n",
    "stemlist = []\n",
    "for i in wordsList:\n",
    "    stemlist.append(ps.stem(i))\n",
    "print('After stemming')\n",
    "print(stemlist)"
   ]
  },
  {
   "cell_type": "code",
   "execution_count": 44,
   "metadata": {},
   "outputs": [
    {
     "name": "stdout",
     "output_type": "stream",
     "text": [
      "After Lemmatizing\n",
      "['cricket', 'bat', 'ball', 'game', 'play', 'two', 'team', 'eleven', 'player', '.']\n"
     ]
    }
   ],
   "source": [
    "# lemmatizing using nltk (PorterStemmer) library in NLP\n",
    "from nltk.stem import PorterStemmer\n",
    "porter  = PorterStemmer()\n",
    "lemmlist = []\n",
    "for i in wordsList:\n",
    "    lemmlist.append(porter.stem(i))\n",
    "print('After Lemmatizing')\n",
    "print(lemmlist)"
   ]
  },
  {
   "cell_type": "code",
   "execution_count": 43,
   "metadata": {},
   "outputs": [
    {
     "name": "stdout",
     "output_type": "stream",
     "text": [
      "After Lemmatizing\n",
      "['cricket', 'bat', 'bal', 'gam', 'play', 'two', 'team', 'elev', 'play', '.']\n"
     ]
    }
   ],
   "source": [
    "# lemmatizing using nltk (LancasterStemmer) library in NLP\n",
    "from nltk.stem import LancasterStemmer\n",
    "lancaster  = LancasterStemmer()\n",
    "lemmlist = []\n",
    "for i in wordsList:\n",
    "    lemmlist.append(lancaster.stem(i))\n",
    "print('After Lemmatizing')\n",
    "print(lemmlist)"
   ]
  }
 ],
 "metadata": {
  "kernelspec": {
   "display_name": "Python 3",
   "language": "python",
   "name": "python3"
  },
  "language_info": {
   "codemirror_mode": {
    "name": "ipython",
    "version": 3
   },
   "file_extension": ".py",
   "mimetype": "text/x-python",
   "name": "python",
   "nbconvert_exporter": "python",
   "pygments_lexer": "ipython3",
   "version": "3.7.3"
  }
 },
 "nbformat": 4,
 "nbformat_minor": 2
}
